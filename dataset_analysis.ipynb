{
 "cells": [
  {
   "cell_type": "code",
   "execution_count": 6,
   "metadata": {},
   "outputs": [],
   "source": [
    "import numpy as np\n",
    "import pandas as pd\n",
    "from os import listdir\n",
    "from os.path import isfile, join\n",
    "import csv"
   ]
  },
  {
   "cell_type": "code",
   "execution_count": 7,
   "metadata": {},
   "outputs": [],
   "source": [
    "# Get all the stock symbols\n",
    "mypath = '.\\\\stock_prices\\\\Data\\Stocks\\\\'\n",
    "onlyfiles = [f for f in listdir(mypath) if isfile(join(mypath, f))]\n",
    "stocks = []\n",
    "for file in onlyfiles:\n",
    "    stocks.append(file[:-7])\n",
    "\n",
    "# Match stock symbols with company names\n",
    "symbol_to_name = {}\n",
    "name_to_symbol = {}\n",
    "stop_list = [' inc', ' inc', ', inc', ',', '.', ' ltd', ' lp', '\\n']\n",
    "with open('./stock_name_symbol.txt') as nameFile:\n",
    "    for line in nameFile:\n",
    "        tempLine = line.split(',')\n",
    "        symbol = tempLine[0].lower()\n",
    "        name = tempLine[1].lower()\n",
    "        for string in stop_list:\n",
    "            name = name.replace(string, '')\n",
    "        if tempLine[0].lower() in stocks:\n",
    "            symbol_to_name[symbol] = name\n",
    "            name_to_symbol[name] = symbol"
   ]
  },
  {
   "cell_type": "code",
   "execution_count": 10,
   "metadata": {},
   "outputs": [],
   "source": [
    "# Get a list of all named stocks that have metrics in our dataset\n",
    "name_to_secID = {}\n",
    "secID_to_name = {}\n",
    "\n",
    "df = pd.read_csv('.\\\\company_metrics\\\\companies-names-industries.csv')\n",
    "for name, sec_id in zip(df['Latest Name'], df['SEC ID']):\n",
    "    tempName = name.lower()\n",
    "    for string in stop_list:\n",
    "        tempName = tempName.replace(string, '')\n",
    "    if tempName in name_to_symbol:\n",
    "        name_to_secID[tempName] = sec_id\n",
    "        secID_to_name[sec_id] = tempName"
   ]
  },
  {
   "cell_type": "code",
   "execution_count": 14,
   "metadata": {},
   "outputs": [],
   "source": [
    "# Get the open, close, high, low, and volume of stock trades for each company that has metrics\n",
    "stock_prices = {}\n",
    "for stockName in name_to_secID:\n",
    "    stock_prices[stockName] = []\n",
    "    stockSymbol = name_to_symbol[stockName]\n",
    "    fileName = '.\\\\stock_prices\\\\Stocks\\\\'+stockSymbol+'.us.txt'\n",
    "    with open(fileName) as file:\n",
    "        for line in file:\n",
    "            tempLine = line.split(',')\n",
    "            if tempLine[0] != 'Date':\n",
    "                stock_prices[stockName].append(tempLine)"
   ]
  },
  {
   "cell_type": "code",
   "execution_count": 15,
   "metadata": {},
   "outputs": [],
   "source": [
    "### Get the company metrics for each company in our dataset ###\n",
    "metrics = {}\n",
    "\n",
    "# Assets\n",
    "assets = {}\n",
    "with open('.\\\\company_metrics\\\\metrics\\\\Assets-quarterly.csv') as file:\n",
    "    for line in file:\n",
    "        tempLine = line.split(',')\n",
    "        if tempLine[0] != 'SEC ID':\n",
    "            if int(tempLine[0]) in list(secID_to_name.keys()):\n",
    "                assets[int(tempLine[0])] = tempLine[1:-1]\n",
    "metrics['assets'] = assets\n",
    "\n",
    "# Cash and cash equivalents at carrying value\n",
    "cash = {}\n",
    "with open('.\\\\company_metrics\\\\metrics\\\\CashAndCashEquivalentsAtCarryingValue-quarterly.csv') as file:\n",
    "    for line in file:\n",
    "        tempLine = line.split(',')\n",
    "        if tempLine[0] != 'SEC ID':\n",
    "            if int(tempLine[0]) in list(secID_to_name.keys()):\n",
    "                cash[int(tempLine[0])] = tempLine[1:-1]\n",
    "metrics['cash'] = cash\n",
    "                \n",
    "# Liabilities\n",
    "liabilities = {}\n",
    "with open('.\\\\company_metrics\\\\metrics\\\\Liabilities-quarterly.csv') as file:\n",
    "    for line in file:\n",
    "        tempLine = line.split(',')\n",
    "        if tempLine[0] != 'SEC ID':\n",
    "            if int(tempLine[0]) in list(secID_to_name.keys()):\n",
    "                liabilities[int(tempLine[0])] = tempLine[1:-1]\n",
    "metrics['liabilities'] = liabilities\n",
    "\n",
    "# Operating Expenses\n",
    "operating_expenses = {}\n",
    "with open('.\\\\company_metrics\\\\metrics\\\\OperatingIncomeLoss-quarterly.csv') as file:\n",
    "    for line in file:\n",
    "        tempLine = line.split(',')\n",
    "        if tempLine[0] != 'SEC ID':\n",
    "            if int(tempLine[0]) in list(secID_to_name.keys()):\n",
    "                operating_expenses[int(tempLine[0])] = tempLine[1:-1]\n",
    "metrics['operating_expenses'] = operating_expenses\n",
    "\n",
    "# Property Plant and Equipment Net\n",
    "property_value = {}\n",
    "with open('.\\\\company_metrics\\\\metrics\\\\PropertyPlantAndEquipmentNet-quarterly.csv') as file:\n",
    "    for line in file:\n",
    "        tempLine = line.split(',')\n",
    "        if tempLine[0] != 'SEC ID':\n",
    "            if int(tempLine[0]) in list(secID_to_name.keys()):\n",
    "                property_value[int(tempLine[0])] = tempLine[1:-1]\n",
    "metrics['property_value'] = property_value\n",
    "\n",
    "# Revenues\n",
    "revenue = {}\n",
    "with open('.\\\\company_metrics\\\\metrics\\\\Revenues-quarterly.csv') as file:\n",
    "    for line in file:\n",
    "        tempLine = line.split(',')\n",
    "        if tempLine[0] != 'SEC ID':\n",
    "            if int(tempLine[0]) in list(secID_to_name.keys()):\n",
    "                revenue[int(tempLine[0])] = tempLine[1:-1]\n",
    "metrics['revenue'] = revenue"
   ]
  },
  {
   "cell_type": "code",
   "execution_count": 16,
   "metadata": {},
   "outputs": [
    {
     "name": "stdout",
     "output_type": "stream",
     "text": [
      "Name: ebay\n",
      "SEC ID: 1065088\n",
      "# of stock datapoints: 4814\n",
      "25\n",
      "Name: sirius xm holdings\n",
      "SEC ID: 908937\n",
      "# of stock datapoints: 3201\n",
      "25\n",
      "Name: aegion corp\n",
      "SEC ID: 353020\n",
      "# of stock datapoints: 1521\n",
      "25\n",
      "Name: nektar therapeutics\n",
      "SEC ID: 906709\n",
      "# of stock datapoints: 3198\n",
      "25\n",
      "Name: cme group\n",
      "SEC ID: 1156375\n",
      "# of stock datapoints: 3201\n",
      "25\n",
      "Name: biomarin pharmaceutical\n",
      "SEC ID: 1048477\n",
      "# of stock datapoints: 3199\n",
      "25\n",
      "Name: scientific games corp\n",
      "SEC ID: 750004\n",
      "# of stock datapoints: 3201\n",
      "25\n",
      "Name: shire plc\n",
      "SEC ID: 936402\n",
      "# of stock datapoints: 3201\n",
      "25\n"
     ]
    }
   ],
   "source": [
    "# Get companies that have a complete dataset\n",
    "all_data_comps = list(secID_to_name.keys())\n",
    "for metric in metrics:\n",
    "    for secID in metrics[metric]:\n",
    "        if '' in metrics[metric][secID]:\n",
    "            if secID in all_data_comps:\n",
    "                del all_data_comps[all_data_comps.index(secID)]\n",
    "\n",
    "for secID in all_data_comps:\n",
    "    if secID in metrics['assets']:\n",
    "        print(\"Name: \" + secID_to_name[secID])\n",
    "        print(\"SEC ID: \" + str(secID))\n",
    "        print(\"# of stock datapoints: \"+ str(len(stock_prices[secID_to_name[secID]])))\n",
    "        print(len(metrics['assets'][secID]))"
   ]
  },
  {
   "cell_type": "code",
   "execution_count": 32,
   "metadata": {},
   "outputs": [
    {
     "name": "stdout",
     "output_type": "stream",
     "text": [
      "SEC ID,2011Q1,2011Q2,2011Q3,2011Q4,2012Q1,2012Q2,2012Q3,2012Q4,2013Q1,2013Q2,2013Q3,2013Q4,2014Q1,2014Q2,2014Q3,2014Q4,2015Q1,2015Q2,2015Q3,2015Q4,2016Q1,2016Q2,2016Q3,2016Q4,2017Q1,2017Q2\n",
      "revenue\n",
      "936402,972200000.000,1062900000.000,1086100000.000,1142200000.000,1171800000.000,1207800000.000,1100400000.000,1201200000.000,1161900000.000,1274500000.000,1236600000.000,1261300000.000,1346800000.000,1502100000.000,1597100000.000,1576100000.000,1488400000.000,1557600000.000,1655000000.000,1715700000.000,1709300000.000,2429100000.000,3452100000.000,3806100000.000,3572300000.000\n",
      "cash\n",
      "936402,712000000.000,144600000.000,276400000.000,620000000.000,879400000.000,1112700000.000,1321900000.000,1482200000.000,1450700000.000,1301900000.000,1686100000.000,2239400000.000,139100000.000,153600000.000,467700000.000,2982400000.000,74300000.000,64000000.000,44900000.000,135500000.000,69000000.000,693400000.000,728600000.000,528800000.000,369000000.000\n",
      "property_value\n",
      "936402,869800000.000,905800000.000,918800000.000,932100000.000,921800000.000,925700000.000,931900000.000,955800000.000,951000000.000,953100000.000,965100000.000,891800000.000,884000000.000,852500000.000,845600000.000,837500000.000,821900000.000,816700000.000,795900000.000,828100000.000,837600000.000,6596300000.000,6527700000.000,6469600000.000,6496100000.000\n",
      "assets\n",
      "936402,5672800000.000,6165600000.000,6065600000.000,6380200000.000,6718300000.000,7041000000.000,7316500000.000,7317200000.000,7585600000.000,7902900000.000,8387900000.000,8323000000.000,10900200000.000,11344400000.000,11540500000.000,13632100000.000,17678300000.000,17030500000.000,17453600000.000,16609800000.000,24055300000.000,70720500000.000,69751300000.000,67035400000.000,66160100000.000\n",
      "operating_expenses\n",
      "936402,266500000.000,283300000.000,255400000.000,304000000.000,295000000.000,302200000.000,273400000.000,78600000.000,129100000.000,341800000.000,340800000.000,921800000.000,306900000.000,337900000.000,572000000.000,481200000.000,474600000.000,132600000.000,455800000.000,356500000.000,543900000.000,96200000.000,-405900000.000,728700000.000,497100000.000\n",
      "liabilities\n",
      "936402,2903700000.000,3250000000.000,3110900000.000,3195200000.000,3197700000.000,3423900000.000,3438500000.000,3508000000.000,3803500000.000,4071400000.000,4219100000.000,2957000000.000,5254400000.000,5225300000.000,5002200000.000,4969200000.000,8697600000.000,7916100000.000,7899800000.000,6780700000.000,13760600000.000,40957500000.000,39965600000.000,38087400000.000,36428200000.000\n"
     ]
    },
    {
     "data": {
      "text/plain": [
       "\"\\nfor day in stock_prices['sirius xm holdings']:\\n    printStr = ''\\n    for item in day:\\n        printStr += str(item.replace('\\n', '')) + ','\\n    print(printStr[:-1])\\n\""
      ]
     },
     "execution_count": 32,
     "metadata": {},
     "output_type": "execute_result"
    }
   ],
   "source": [
    "# Get Ebay Data for a quick and dirty analysis\n",
    "tempID = 936402\n",
    "print(\"SEC ID,2011Q1,2011Q2,2011Q3,2011Q4,2012Q1,2012Q2,2012Q3,2012Q4,2013Q1,2013Q2,2013Q3,2013Q4,2014Q1,2014Q2,2014Q3,2014Q4,2015Q1,2015Q2,2015Q3,2015Q4,2016Q1,2016Q2,2016Q3,2016Q4,2017Q1,2017Q2\")\n",
    "for metric in metrics:\n",
    "    print(metric)\n",
    "    printStr = str(tempID)+','\n",
    "    for item in metrics[metric][tempID]:\n",
    "        printStr += str(item) + ','\n",
    "    print(printStr[:-1])\n",
    "\n",
    "'''\n",
    "for day in stock_prices['sirius xm holdings']:\n",
    "    printStr = ''\n",
    "    for item in day:\n",
    "        printStr += str(item.replace('\\n', '')) + ','\n",
    "    print(printStr[:-1])\n",
    "'''"
   ]
  },
  {
   "cell_type": "code",
   "execution_count": null,
   "metadata": {},
   "outputs": [],
   "source": []
  }
 ],
 "metadata": {
  "kernelspec": {
   "display_name": "Python 3",
   "language": "python",
   "name": "python3"
  },
  "language_info": {
   "codemirror_mode": {
    "name": "ipython",
    "version": 3
   },
   "file_extension": ".py",
   "mimetype": "text/x-python",
   "name": "python",
   "nbconvert_exporter": "python",
   "pygments_lexer": "ipython3",
   "version": "3.5.2"
  }
 },
 "nbformat": 4,
 "nbformat_minor": 2
}
